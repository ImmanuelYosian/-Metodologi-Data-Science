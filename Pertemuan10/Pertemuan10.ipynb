{
  "nbformat": 4,
  "nbformat_minor": 0,
  "metadata": {
    "colab": {
      "name": "Pertemuan10.ipynb",
      "provenance": []
    },
    "kernelspec": {
      "name": "python3",
      "display_name": "Python 3"
    },
    "language_info": {
      "name": "python"
    }
  },
  "cells": [
    {
      "cell_type": "code",
      "source": [
        "1. DATASET"
      ],
      "metadata": {
        "id": "ktq9DLs8Yuxf"
      },
      "execution_count": null,
      "outputs": []
    },
    {
      "cell_type": "code",
      "source": [
        "from sklearn import datasets\n",
        "iris = datasets.load_iris()\n",
        "x = iris.data\n",
        "y = iris.target\n"
      ],
      "metadata": {
        "id": "lahwsPB2YIVF"
      },
      "execution_count": 3,
      "outputs": []
    },
    {
      "cell_type": "code",
      "source": [
        "print(\"Banyaknya data : \",len(x))\n"
      ],
      "metadata": {
        "colab": {
          "base_uri": "https://localhost:8080/"
        },
        "id": "LOsHYFonY0z2",
        "outputId": "14c91328-e6b6-4e5a-ca0d-7bb6387d1917"
      },
      "execution_count": 4,
      "outputs": [
        {
          "output_type": "stream",
          "name": "stdout",
          "text": [
            "Banyaknya data :  150\n"
          ]
        }
      ]
    },
    {
      "cell_type": "code",
      "source": [
        "print(\"15 data pertama : \")\n",
        "print(x[:15])"
      ],
      "metadata": {
        "colab": {
          "base_uri": "https://localhost:8080/"
        },
        "id": "4LSjDdRcY8JJ",
        "outputId": "4d968a86-893e-46d5-a521-e50bddfc241b"
      },
      "execution_count": 5,
      "outputs": [
        {
          "output_type": "stream",
          "name": "stdout",
          "text": [
            "15 data pertama : \n",
            "[[5.1 3.5 1.4 0.2]\n",
            " [4.9 3.  1.4 0.2]\n",
            " [4.7 3.2 1.3 0.2]\n",
            " [4.6 3.1 1.5 0.2]\n",
            " [5.  3.6 1.4 0.2]\n",
            " [5.4 3.9 1.7 0.4]\n",
            " [4.6 3.4 1.4 0.3]\n",
            " [5.  3.4 1.5 0.2]\n",
            " [4.4 2.9 1.4 0.2]\n",
            " [4.9 3.1 1.5 0.1]\n",
            " [5.4 3.7 1.5 0.2]\n",
            " [4.8 3.4 1.6 0.2]\n",
            " [4.8 3.  1.4 0.1]\n",
            " [4.3 3.  1.1 0.1]\n",
            " [5.8 4.  1.2 0.2]]\n"
          ]
        }
      ]
    },
    {
      "cell_type": "markdown",
      "source": [
        "2. SPLIT DATA"
      ],
      "metadata": {
        "id": "uqjzg5DVZSCl"
      }
    },
    {
      "cell_type": "code",
      "source": [
        "from sklearn.model_selection import train_test_split\n",
        "x_train, x_test, y_train, y_test = train_test_split(x, y, train_size = 0.7)"
      ],
      "metadata": {
        "id": "Tcsex7bpZVwS"
      },
      "execution_count": 8,
      "outputs": []
    },
    {
      "cell_type": "code",
      "source": [
        "print(\"Banyaknya data latih : \", len(x_train))\n",
        "print(\"Banyaknya data tes : \", len(x_test))"
      ],
      "metadata": {
        "colab": {
          "base_uri": "https://localhost:8080/"
        },
        "id": "Do--JY2dZ9O2",
        "outputId": "d2f5b828-6959-4d1b-d78b-b8292516c453"
      },
      "execution_count": 9,
      "outputs": [
        {
          "output_type": "stream",
          "name": "stdout",
          "text": [
            "Banyaknya data latih :  105\n",
            "Banyaknya data tes :  45\n"
          ]
        }
      ]
    },
    {
      "cell_type": "markdown",
      "source": [
        "K-Fold"
      ],
      "metadata": {
        "id": "OHwBckBUaTk9"
      }
    },
    {
      "cell_type": "code",
      "source": [
        "from sklearn.model_selection import cross_val_score\n",
        "from sklearn.svm import SVC\n",
        "model = SVC(kernel='linear', C=1)\n",
        "scores = cross_val_score(model, x, y, cv = 5)\n",
        "print(\"Akurasi SVM dengan K-Fold untuk setiap fold: \",scores)\n",
        "\n",
        "print(\"Akurasi SVM dengan 5 fold: \",scores.mean())"
      ],
      "metadata": {
        "colab": {
          "base_uri": "https://localhost:8080/"
        },
        "id": "qg3g2LAQaJ0g",
        "outputId": "672e8587-71d0-4301-c53b-8ccfbae435a2"
      },
      "execution_count": 11,
      "outputs": [
        {
          "output_type": "stream",
          "name": "stdout",
          "text": [
            "Akurasi SVM dengan K-Fold untuk setiap fold:  [0.96666667 1.         0.96666667 0.96666667 1.        ]\n",
            "Akurasi SVM dengan 5 fold:  0.9800000000000001\n"
          ]
        }
      ]
    },
    {
      "cell_type": "markdown",
      "source": [
        "UJI COBA MODEL KLASIFIKASI"
      ],
      "metadata": {
        "id": "JgU2vrNfbRT_"
      }
    },
    {
      "cell_type": "markdown",
      "source": [
        "1. KNN (K-Nearest Neighbors)\n",
        "Sumber Bacaan https://scikit-learn.org/stable/modules/generated/sklearn.neighbors.KNeighborsClassifier.html#sklearn.neighbors.KNeighborsClassifier"
      ],
      "metadata": {
        "id": "7N_EcWdWbYHR"
      }
    },
    {
      "cell_type": "code",
      "source": [
        "from sklearn.neighbors import KNeighborsClassifier\n",
        "from sklearn import metrics\n",
        "\n",
        "knn = KNeighborsClassifier()\n",
        "knn.fit(x_train, y_train)\n",
        "y_pred = knn.predict(x_test)\n",
        "score = metrics.accuracy_score(y_test, y_pred)\n",
        "print(\"Akurasi Model KNN Sebesar :\", score)"
      ],
      "metadata": {
        "colab": {
          "base_uri": "https://localhost:8080/"
        },
        "id": "VWck-HTAbVtM",
        "outputId": "e55e08df-f382-4a3b-b9d2-c7d02eb6e6ee"
      },
      "execution_count": 12,
      "outputs": [
        {
          "output_type": "stream",
          "name": "stdout",
          "text": [
            "Akurasi Model KNN Sebesar : 0.9777777777777777\n"
          ]
        }
      ]
    },
    {
      "cell_type": "markdown",
      "source": [
        "2. D-Tree (Decision Trees)\n",
        "Sumber bacaan : https://scikit-learn.org/stable/modules/generated/sklearn.tree.DecisionTreeClassifier.html#sklearn.tree.DecisionTreeClassifier\n"
      ],
      "metadata": {
        "id": "-NZOl9u0dH9g"
      }
    },
    {
      "cell_type": "code",
      "source": [
        "from sklearn.tree import DecisionTreeClassifier\n",
        "from sklearn import metrics\n",
        "\n",
        "dt = DecisionTreeClassifier(max_depth= None, min_samples_split= 2)\n",
        "dt.fit(x_train, y_train)\n",
        "\n",
        "y_pred_dtree = dt.predict(x_test)\n",
        "\n",
        "score_dtree = metrics.accuracy_score(y_test, y_pred_dtree)\n",
        "\n",
        "print(\"Akurasi Model DTree sebesar : \", score_dtree)"
      ],
      "metadata": {
        "colab": {
          "base_uri": "https://localhost:8080/"
        },
        "id": "zf4sdyJRdeCJ",
        "outputId": "3c0df01c-bbb7-4758-b33d-07beab291be7"
      },
      "execution_count": 18,
      "outputs": [
        {
          "output_type": "stream",
          "name": "stdout",
          "text": [
            "Akurasi Model DTree sebesar :  0.9777777777777777\n"
          ]
        }
      ]
    },
    {
      "cell_type": "markdown",
      "source": [
        "3. SVM\n",
        "Sumber Bacaan : https://scikit-learn.org/stable/modules/generated/sklearn.svm.SVC.html"
      ],
      "metadata": {
        "id": "vrWMhtWWfmiB"
      }
    },
    {
      "cell_type": "code",
      "source": [
        "from sklearn.svm import SVC\n",
        "from sklearn import metrics\n",
        "\n",
        "svm = SVC(kernel='rbf', C = 1, gamma = 0.01)\n",
        "svm.fit(x_train, y_train)\n",
        "y_pred_svm = svm.predict(x_test)\n",
        "score_svm = metrics.accuracy_score(y_test, y_pred_svm)\n",
        "print(\"Akurasi Model SVM sebesar: \", score_svm)"
      ],
      "metadata": {
        "colab": {
          "base_uri": "https://localhost:8080/"
        },
        "id": "QM1VCI5-fqht",
        "outputId": "579caedb-6b8a-4a9a-ebc7-15ede24d78bf"
      },
      "execution_count": 22,
      "outputs": [
        {
          "output_type": "stream",
          "name": "stdout",
          "text": [
            "Akurasi Model SVM sebesar:  0.9333333333333333\n"
          ]
        }
      ]
    },
    {
      "cell_type": "code",
      "source": [
        "from sklearn.svm import SVC\n",
        "from sklearn import metrics\n",
        "\n",
        "svmLinear = SVC(kernel='linear', C=1)\n",
        "svmLinear.fit(x_train,y_train)\n",
        "\n",
        "y_pred_svmLinear = svmLinear.predict(x_test)\n",
        "score_svmLinear = metrics.accuracy_score(y_test, y_pred_svmLinear)\n",
        "\n",
        "print(\"Akurasi Model SVM sebesar : \", score_svmLinear)"
      ],
      "metadata": {
        "colab": {
          "base_uri": "https://localhost:8080/"
        },
        "id": "e0Qa68nafDp7",
        "outputId": "df63254c-1d52-4cf0-a50b-76963014529a"
      },
      "execution_count": 23,
      "outputs": [
        {
          "output_type": "stream",
          "name": "stdout",
          "text": [
            "Akurasi Model SVM sebesar :  0.9777777777777777\n"
          ]
        }
      ]
    },
    {
      "cell_type": "markdown",
      "source": [
        "4. Logistic Regression \n",
        "Bahan Bacaan : https://scikit-learn.org/stable/modules/generated/sklearn.linear_model.LogisticRegression.html\n",
        "\n",
        "\n"
      ],
      "metadata": {
        "id": "SKaC91b8hXfa"
      }
    },
    {
      "cell_type": "code",
      "source": [
        "from sklearn.linear_model import LogisticRegression\n",
        "from sklearn import metrics\n",
        "\n",
        "lr = LogisticRegression()\n",
        "lr.fit(x_train, y_train)\n",
        "y_pred_lr = lr.predict(x_test)\n",
        "score_lr = metrics.accuracy_score(y_test, y_pred_lr)\n",
        "print(\"Akurasi Model SVM sebesar: \", score_svm)"
      ],
      "metadata": {
        "colab": {
          "base_uri": "https://localhost:8080/"
        },
        "id": "Oj3nKVjUhhpt",
        "outputId": "c35fa5d7-778b-4a4b-9368-c2dbbc0621b4"
      },
      "execution_count": 25,
      "outputs": [
        {
          "output_type": "stream",
          "name": "stdout",
          "text": [
            "Akurasi Model SVM sebesar:  0.9333333333333333\n"
          ]
        }
      ]
    },
    {
      "cell_type": "markdown",
      "source": [
        "5. Naive Bayes \n",
        "Sumber Bacaan : https://scikit-learn.org/stable/modules/generated/sklearn.naive_bayes.BernoulliNB.html#sklearn.naive_bayes.BernoulliNB"
      ],
      "metadata": {
        "id": "6OJgM_7GiQw_"
      }
    },
    {
      "cell_type": "code",
      "source": [
        "from sklearn.naive_bayes import BernoulliNB\n",
        "from sklearn import metrics\n",
        "\n",
        "clf = BernoulliNB()\n",
        "clf.fit(x_train, y_train)\n",
        "y_pred_nb = clf.predict(x_test)\n",
        "score_nb = metrics.accuracy_score(y_test,y_pred_nb)\n",
        "print(\"Akurasi model Naive Bayes sebesar\", score_nb)"
      ],
      "metadata": {
        "colab": {
          "base_uri": "https://localhost:8080/"
        },
        "id": "LsOG2s9SiP9v",
        "outputId": "ae040aec-f4d6-471c-d6db-e4ba669bf9ab"
      },
      "execution_count": 28,
      "outputs": [
        {
          "output_type": "stream",
          "name": "stdout",
          "text": [
            "Akurasi model Naive Bayes sebesar 0.28888888888888886\n"
          ]
        }
      ]
    },
    {
      "cell_type": "code",
      "source": [
        "from sklearn.naive_bayes import GaussianNB\n",
        "from sklearn import metrics\n",
        "\n",
        "GNB = GaussianNB()\n",
        "GNB.fit(x_train,y_train)\n",
        "\n",
        "y_pred_GNB = GNB.predict(x_test)\n",
        "score_GNB = metrics.accuracy_score(y_test, y_pred_GNB)\n",
        "\n",
        "print(\"Akurasi Model NaiveBayes GaussianNB sebesar : \", score_GNB)"
      ],
      "metadata": {
        "colab": {
          "base_uri": "https://localhost:8080/"
        },
        "id": "TzGAhSJQkiIo",
        "outputId": "d2fd0937-81c5-48a1-adcd-2b613261d3e2"
      },
      "execution_count": 30,
      "outputs": [
        {
          "output_type": "stream",
          "name": "stdout",
          "text": [
            "Akurasi Model NaiveBayes GaussianNB sebesar :  0.9555555555555556\n"
          ]
        }
      ]
    }
  ]
}